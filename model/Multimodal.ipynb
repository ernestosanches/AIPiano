{
 "cells": [
  {
   "cell_type": "markdown",
   "metadata": {},
   "source": [
    "### Helper functions"
   ]
  },
  {
   "cell_type": "code",
   "execution_count": 1,
   "metadata": {},
   "outputs": [],
   "source": [
    "# For Audio:\n",
    "# pip install pydub ffmpeg      ---> required\n",
    "# sudo apt-get install ffmpeg   ---> optional\n",
    "\n",
    "# For MIDI:\n",
    "# pip install mido              ---> required\n",
    "\n",
    "from pydub import AudioSegment \n",
    "\n",
    "def match_target_amplitude(sound, target_dBFS=-14): # default YouTube audio normalization level\n",
    "    '''\n",
    "    https://stackoverflow.com/questions/42492246/how-to-normalize-the-volume-of-an-audio-file-in-python-any-packages-currently-a\n",
    "    '''\n",
    "    change_in_dBFS = target_dBFS - sound.dBFS\n",
    "    return sound.apply_gain(change_in_dBFS)\n",
    "\n",
    "\n",
    "def detect_leading_silence(sound, silence_threshold=-25.0, chunk_size=50):\n",
    "    '''\n",
    "    sound is a pydub.AudioSegment\n",
    "    silence_threshold in dB\n",
    "    chunk_size in ms\n",
    "    iterate over chunks until you find the first one with sound\n",
    "    https://stackoverflow.com/questions/29547218/remove-silence-at-the-beginning-and-at-the-end-of-wave-files-with-pydub\n",
    "    '''\n",
    "    trim_ms = 0 # ms\n",
    "    assert chunk_size > 0 # to avoid infinite loop\n",
    "    while sound[trim_ms:trim_ms+chunk_size].dBFS < silence_threshold and trim_ms < len(sound):\n",
    "        trim_ms += chunk_size\n",
    "\n",
    "    return trim_ms\n",
    "\n",
    "def trim_silence(sound, silence_threshold=-50, chunk_size=10):\n",
    "    start_trim = detect_leading_silence(sound)\n",
    "    end_trim = 0 # <- Do not trim the end   For trimming -> #detect_leading_silence(sound.reverse())\n",
    "    duration = len(sound)    \n",
    "    trimmed_sound = sound[start_trim:duration-end_trim]\n",
    "    return trimmed_sound"
   ]
  },
  {
   "cell_type": "code",
   "execution_count": 2,
   "metadata": {},
   "outputs": [],
   "source": [
    "import numpy\n",
    "\n",
    "def get_sound_features(filepath, normalization=False, trimming=False):\n",
    "    sound = AudioSegment.from_wav(filepath)\n",
    "    if normalization:\n",
    "        sound = match_target_amplitude(sound)\n",
    "    if trimming:\n",
    "        sound = trim_silence(sound, chunk_size=50) \n",
    "    return numpy.array(sound.get_array_of_samples())"
   ]
  },
  {
   "cell_type": "markdown",
   "metadata": {},
   "source": [
    "### Data loading"
   ]
  },
  {
   "cell_type": "code",
   "execution_count": 3,
   "metadata": {},
   "outputs": [],
   "source": [
    "from os import path\n",
    "from mido import MidiFile \n",
    "\n",
    "data_path = \"../data/multimodal/\"\n",
    "notes = [\"C\", \"G\"]\n",
    "files = [(\"wav\", \"Laser\"), \n",
    "         (\"wav\", \"Sound\"),\n",
    "         (\"mid\", \"MIDI\")]\n",
    "\n",
    "# READING\n",
    "\n",
    "def read_wav(file_path):\n",
    "    return get_sound_features(file_path)\n",
    "\n",
    "def read_midi(file_path):\n",
    "    elapsed = 0 # time in seconds\n",
    "    midi = MidiFile(file_path)\n",
    "    samples = None\n",
    "    SAMPLE_RATE = 44100 # Hertz\n",
    "    prev_velocity = 0\n",
    "    for msg in midi:\n",
    "        if msg.is_meta:\n",
    "            # ignore meta messages, they should be of length 0 leading to no samples generated\n",
    "            velocity = -1 \n",
    "        else:\n",
    "            velocity = msg.velocity\n",
    "        length = msg.time\n",
    "        elapsed += length\n",
    "        samples_expected = int(numpy.round(elapsed * SAMPLE_RATE))\n",
    "        if samples is None:\n",
    "            samples = numpy.full(samples_expected, prev_velocity)\n",
    "        else:\n",
    "            samples_to_insert = samples_expected - len(samples)\n",
    "            # inserting samples of same velocity\n",
    "            curr_samples = numpy.full(samples_to_insert, prev_velocity)\n",
    "            samples = numpy.concatenate((samples, curr_samples))\n",
    "        prev_velocity = velocity\n",
    "    return samples\n",
    "        \n",
    "read_function = {\"wav\" : read_wav,\n",
    "                 \"mid\" : read_midi}\n",
    "\n",
    "# POST_PROCESSING\n",
    "\n",
    "def process_midi(midi, sound):\n",
    "    # adding missing silence at midi data\n",
    "    sound_length = len(sound)\n",
    "    missing_length = sound_length - len(midi)\n",
    "    if missing_length > 0:\n",
    "        curr_samples = numpy.full(missing_length, 0) # zero velocity\n",
    "        midi = numpy.concatenate((midi, curr_samples))\n",
    "    return midi\n",
    "\n",
    "def clamp_pwm(x):\n",
    "    # converts analog signal into digital by clamping to 0/1 according to threshold\n",
    "    x = x / x.max()\n",
    "    #threshold = (x.max() - x.min()) / 2\n",
    "    threshold = 0\n",
    "    return numpy.where(x > threshold, 1, 0)\n",
    "\n",
    "def smooth_pwm(x):\n",
    "    # There are 490 PWM pulses per second, each of which encodes a measurement\n",
    "    PWM_FREQUENCY = 490 # frequency of pulse width modulation, Hz\n",
    "    # Calculating how many sound samples each measurement takes\n",
    "    LASER_SIGNAL_WINDOW = int(44100 / PWM_FREQUENCY)  # number of samples per measurement\n",
    "    x = clamp_pwm(x)\n",
    "    start = 0\n",
    "    is_last_0 = True\n",
    "    curr_value = 0\n",
    "    for i in range(len(x)):\n",
    "        if x[i] == 1 and is_last_0:\n",
    "            x[start : i] = curr_value\n",
    "            start = i\n",
    "            is_last_0 = False\n",
    "            #print(last_1 + 1, i, curr_value)\n",
    "        elif x[i] == 0 and not is_last_0:\n",
    "            curr_value = i - start\n",
    "            x[start : i] = curr_value\n",
    "            start = i\n",
    "            is_last_0 = True\n",
    "            #print(last_1 + 1, i,curr_value)\n",
    "        elif i == len(x) - 1:\n",
    "            x[start : ] = curr_value\n",
    "    return x / LASER_SIGNAL_WINDOW\n",
    "\n",
    "def process_laser(laser):\n",
    "    # Laser generates data as PWM-signal. \n",
    "    # To convert the encoded signal back to real laser data (demodulate the signal), \n",
    "    # we convolve the signal with fixed a fixed length box filter\n",
    "    def smooth(x,window_len=11,window='hanning'):\n",
    "        # https://scipy-cookbook.readthedocs.io/items/SignalSmooth.html\n",
    "        if x.ndim != 1:\n",
    "            raise(ValueError, \"smooth only accepts 1 dimension arrays.\")\n",
    "        if x.size < window_len:\n",
    "            raise(ValueError, \"Input vector needs to be bigger than window size.\")\n",
    "        if window_len<3:\n",
    "            return x\n",
    "        if not window in ['flat', 'hanning', 'hamming', 'bartlett', 'blackman']:\n",
    "            raise(ValueError, \"Window is on of 'flat', 'hanning', 'hamming', 'bartlett', 'blackman'\")\n",
    "        s=numpy.r_[x[window_len-1:0:-1],x,x[-2:-window_len-1:-1]]\n",
    "        #print(len(s))\n",
    "        if window == 'flat': #moving average\n",
    "            w=numpy.ones(window_len,'d')\n",
    "        else:\n",
    "            w=eval('numpy.'+window+'(window_len)')\n",
    "        y=numpy.convolve(w/w.sum(),s,mode='valid')\n",
    "        return y\n",
    "    return smooth_pwm(laser)\n",
    "\n",
    "# MAIN LOADING FUNCTION\n",
    "\n",
    "def read_data():\n",
    "    # structure of data - dictionary of dictionaries:\n",
    "    # { Note_name : { data_file_name : time series data} } \n",
    "    data = dict()\n",
    "    for note in notes:\n",
    "        data[note] = dict()\n",
    "        for file_type, file_name in files:\n",
    "            file_path = path.join(data_path, \"{}_{}.{}\".format(note, file_name, file_type))\n",
    "            data[note][file_name] = read_function[file_type](file_path)\n",
    "        data[note][\"MIDI\"] = process_midi(data[note][\"MIDI\"], data[note][\"Sound\"])\n",
    "        data[note][\"Laser\"] = process_laser(data[note][\"Laser\"])\n",
    "    return data"
   ]
  },
  {
   "cell_type": "code",
   "execution_count": 4,
   "metadata": {},
   "outputs": [
    {
     "data": {
      "text/plain": [
       "{'C': {'Laser': array([0.        , 0.        , 0.        , ..., 0.24444444, 0.24444444,\n",
       "         0.24444444]),\n",
       "  'Sound': array([   0, 1792,  256, ...,    0,    0,    0], dtype=int32),\n",
       "  'MIDI': array([0, 0, 0, ..., 0, 0, 0])},\n",
       " 'G': {'Laser': array([0.        , 0.06666667, 0.06666667, ..., 0.14444444, 0.14444444,\n",
       "         0.14444444]),\n",
       "  'Sound': array([   0, 1024,   -1, ...,    0,    0,    0], dtype=int32),\n",
       "  'MIDI': array([0, 0, 0, ..., 0, 0, 0])}}"
      ]
     },
     "execution_count": 4,
     "metadata": {},
     "output_type": "execute_result"
    }
   ],
   "source": [
    "data = read_data()\n",
    "data"
   ]
  },
  {
   "cell_type": "code",
   "execution_count": 5,
   "metadata": {},
   "outputs": [],
   "source": [
    "%matplotlib inline\n",
    "from matplotlib import pyplot as plt\n",
    "def plot_time_series(Sound, Laser, Midi, title, plot_samples=44100 * 60): # 1 minute by default \n",
    "    plt.xlabel(\"Time sample\")\n",
    "    plt.ylabel(\"Value\")\n",
    "    plt.title(\"Multi-modal time series: {}\".format(title))\n",
    "    plt.plot(Sound[:plot_samples] / Sound.max(), label=\"Sound\")\n",
    "    plt.plot(Laser[:plot_samples] / Laser.max(), label=\"Laser\")\n",
    "    plt.plot(Midi[:plot_samples] / Midi.max(), label=\"MIDI\")\n",
    "    plt.legend()"
   ]
  },
  {
   "cell_type": "code",
   "execution_count": 6,
   "metadata": {},
   "outputs": [
    {
     "name": "stdout",
     "output_type": "stream",
     "text": [
      "Time series lengths (Note C): 19205125 19205125 19205125\n"
     ]
    },
    {
     "data": {
      "image/png": "[encoded data removed]",
      "text/plain": [
       "<Figure size 432x288 with 1 Axes>"
      ]
     },
     "metadata": {
      "needs_background": "light"
     },
     "output_type": "display_data"
    }
   ],
   "source": [
    "Sound_C, Laser_C, Midi_C = data[\"C\"][\"Sound\"], data[\"C\"][\"Laser\"], data[\"C\"][\"MIDI\"]\n",
    "print(\"Time series lengths (Note C):\", len(Sound_C), len(Laser_C), len(Midi_C))\n",
    "plot_time_series(Sound_C, Laser_C, Midi_C, \"note C\")"
   ]
  },
  {
   "cell_type": "code",
   "execution_count": 8,
   "metadata": {},
   "outputs": [
    {
     "name": "stdout",
     "output_type": "stream",
     "text": [
      "Time series lengths (Note G): 19098579 19098579 19098579\n"
     ]
    },
    {
     "data": {
      "image/png": "[encoded data removed]",
      "text/plain": [
       "<Figure size 432x288 with 1 Axes>"
      ]
     },
     "metadata": {
      "needs_background": "light"
     },
     "output_type": "display_data"
    }
   ],
   "source": [
    "Sound_G, Laser_G, Midi_G = data[\"G\"][\"Sound\"], data[\"G\"][\"Laser\"], data[\"G\"][\"MIDI\"]\n",
    "print(\"Time series lengths (Note G):\", len(Sound_G), len(Laser_G), len(Midi_G))\n",
    "plot_time_series(Sound_G, Laser_G, Midi_G, \"note G\")"
   ]
  },
  {
   "cell_type": "markdown",
   "metadata": {},
   "source": [
    "# Now we can use Laser, Sound, Midi time series to do the Machine Learning \n",
    "\n",
    "\n",
    "### Start with Laser --> Midi, which should be easiest\n",
    "### I think that it should be possible to predict MIDI from few past samples of Laser (like  Laser[t-n : t] --> Midi [t], where \"n\" is some number)\n",
    "\n",
    "### So we can either use supervised MLP network that will take n previous samples of Laser, and predict current sample of Midi; (as a first step)\n",
    "### Or use a real RNN (as a second step)"
   ]
  },
  {
   "cell_type": "code",
   "execution_count": null,
   "metadata": {},
   "outputs": [],
   "source": []
  }
 ],
 "metadata": {
  "kernelspec": {
   "display_name": "Python 3",
   "language": "python",
   "name": "python3"
  },
  "language_info": {
   "codemirror_mode": {
    "name": "ipython",
    "version": 3
   },
   "file_extension": ".py",
   "mimetype": "text/x-python",
   "name": "python",
   "nbconvert_exporter": "python",
   "pygments_lexer": "ipython3",
   "version": "3.6.8"
  }
 },
 "nbformat": 4,
 "nbformat_minor": 2
}
